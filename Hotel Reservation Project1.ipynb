{
 "cells": [
  {
   "cell_type": "markdown",
   "id": "b608b50b-a200-48bc-a931-dde73e15bf61",
   "metadata": {},
   "source": [
    "# HOTEL RESERVATION PTOJECT"
   ]
  },
  {
   "cell_type": "code",
   "execution_count": 1,
   "id": "8b06f9e0-2a5c-44cb-81f8-52b20c9fa499",
   "metadata": {},
   "outputs": [],
   "source": [
    "import pandas as pd\n",
    "import numpy as np\n",
    "import matplotlib.pyplot as plt\n",
    "import seaborn as sns\n",
    "import warnings\n",
    "warnings.filterwarnings(\"ignore\")\n",
    "from sklearn.model_selection import train_test_split\n",
    "from sklearn.tree import DecisionTreeClassifier\n",
    "from sklearn.ensemble import StackingClassifier\n",
    "from sklearn.linear_model import LinearRegression\n",
    "from sklearn.ensemble import RandomForestClassifier\n",
    "from sklearn.neighbors import KNeighborsClassifier\n",
    "from sklearn.metrics import accuracy_score,classification_report,confusion_matrix,f1_score,precision_score,recall_score\n",
    "from sklearn.svm import SVC"
   ]
  },
  {
   "cell_type": "markdown",
   "id": "6bef8b68-e707-44df-bc00-8200935ace8c",
   "metadata": {},
   "source": [
    "### Loading Dataset"
   ]
  },
  {
   "cell_type": "code",
   "execution_count": 2,
   "id": "f5d16d7c-af5f-41ce-9dda-3b25efbe5b07",
   "metadata": {},
   "outputs": [],
   "source": [
    "df = pd.read_csv(\"Aditya.csv\")"
   ]
  },
  {
   "cell_type": "markdown",
   "id": "df859686-4223-4c35-bb42-cd667daaf907",
   "metadata": {},
   "source": [
    "####\n",
    "#### The dataset of \"Hotel Reservation\" contains 'Booking status' as target column we aim to analyzed how other features \n",
    "\n",
    "#### influence it.\n",
    "####"
   ]
  },
  {
   "cell_type": "code",
   "execution_count": 3,
   "id": "461e948a-7ab7-456f-b08c-b11aafa3f136",
   "metadata": {},
   "outputs": [
    {
     "data": {
      "text/html": [
       "<div>\n",
       "<style scoped>\n",
       "    .dataframe tbody tr th:only-of-type {\n",
       "        vertical-align: middle;\n",
       "    }\n",
       "\n",
       "    .dataframe tbody tr th {\n",
       "        vertical-align: top;\n",
       "    }\n",
       "\n",
       "    .dataframe thead th {\n",
       "        text-align: right;\n",
       "    }\n",
       "</style>\n",
       "<table border=\"1\" class=\"dataframe\">\n",
       "  <thead>\n",
       "    <tr style=\"text-align: right;\">\n",
       "      <th></th>\n",
       "      <th>Booking_ID</th>\n",
       "      <th>no_of_adults</th>\n",
       "      <th>no_of_children</th>\n",
       "      <th>no_of_weekend_nights</th>\n",
       "      <th>no_of_week_nights</th>\n",
       "      <th>type_of_meal_plan</th>\n",
       "      <th>required_car_parking_space</th>\n",
       "      <th>room_type_reserved</th>\n",
       "      <th>lead_time</th>\n",
       "      <th>arrival_year</th>\n",
       "      <th>arrival_month</th>\n",
       "      <th>arrival_date</th>\n",
       "      <th>market_segment_type</th>\n",
       "      <th>repeated_guest</th>\n",
       "      <th>no_of_previous_cancellations</th>\n",
       "      <th>no_of_previous_bookings_not_canceled</th>\n",
       "      <th>avg_price_per_room</th>\n",
       "      <th>no_of_special_requests</th>\n",
       "      <th>booking_status</th>\n",
       "    </tr>\n",
       "  </thead>\n",
       "  <tbody>\n",
       "    <tr>\n",
       "      <th>0</th>\n",
       "      <td>INN00001</td>\n",
       "      <td>2</td>\n",
       "      <td>0</td>\n",
       "      <td>1</td>\n",
       "      <td>2</td>\n",
       "      <td>Meal Plan 1</td>\n",
       "      <td>0</td>\n",
       "      <td>Room_Type 1</td>\n",
       "      <td>224</td>\n",
       "      <td>2017</td>\n",
       "      <td>10</td>\n",
       "      <td>2</td>\n",
       "      <td>Offline</td>\n",
       "      <td>0</td>\n",
       "      <td>0</td>\n",
       "      <td>0</td>\n",
       "      <td>65.00</td>\n",
       "      <td>0</td>\n",
       "      <td>Not_Canceled</td>\n",
       "    </tr>\n",
       "    <tr>\n",
       "      <th>1</th>\n",
       "      <td>INN00002</td>\n",
       "      <td>2</td>\n",
       "      <td>0</td>\n",
       "      <td>2</td>\n",
       "      <td>3</td>\n",
       "      <td>Not Selected</td>\n",
       "      <td>0</td>\n",
       "      <td>Room_Type 1</td>\n",
       "      <td>5</td>\n",
       "      <td>2018</td>\n",
       "      <td>11</td>\n",
       "      <td>6</td>\n",
       "      <td>Online</td>\n",
       "      <td>0</td>\n",
       "      <td>0</td>\n",
       "      <td>0</td>\n",
       "      <td>106.68</td>\n",
       "      <td>1</td>\n",
       "      <td>Not_Canceled</td>\n",
       "    </tr>\n",
       "    <tr>\n",
       "      <th>2</th>\n",
       "      <td>INN00003</td>\n",
       "      <td>1</td>\n",
       "      <td>0</td>\n",
       "      <td>2</td>\n",
       "      <td>1</td>\n",
       "      <td>Meal Plan 1</td>\n",
       "      <td>0</td>\n",
       "      <td>Room_Type 1</td>\n",
       "      <td>1</td>\n",
       "      <td>2018</td>\n",
       "      <td>2</td>\n",
       "      <td>28</td>\n",
       "      <td>Online</td>\n",
       "      <td>0</td>\n",
       "      <td>0</td>\n",
       "      <td>0</td>\n",
       "      <td>60.00</td>\n",
       "      <td>0</td>\n",
       "      <td>Canceled</td>\n",
       "    </tr>\n",
       "    <tr>\n",
       "      <th>3</th>\n",
       "      <td>INN00004</td>\n",
       "      <td>2</td>\n",
       "      <td>0</td>\n",
       "      <td>0</td>\n",
       "      <td>2</td>\n",
       "      <td>Meal Plan 1</td>\n",
       "      <td>0</td>\n",
       "      <td>Room_Type 1</td>\n",
       "      <td>211</td>\n",
       "      <td>2018</td>\n",
       "      <td>5</td>\n",
       "      <td>20</td>\n",
       "      <td>Online</td>\n",
       "      <td>0</td>\n",
       "      <td>0</td>\n",
       "      <td>0</td>\n",
       "      <td>100.00</td>\n",
       "      <td>0</td>\n",
       "      <td>Canceled</td>\n",
       "    </tr>\n",
       "    <tr>\n",
       "      <th>4</th>\n",
       "      <td>INN00005</td>\n",
       "      <td>2</td>\n",
       "      <td>0</td>\n",
       "      <td>1</td>\n",
       "      <td>1</td>\n",
       "      <td>Not Selected</td>\n",
       "      <td>0</td>\n",
       "      <td>Room_Type 1</td>\n",
       "      <td>48</td>\n",
       "      <td>2018</td>\n",
       "      <td>4</td>\n",
       "      <td>11</td>\n",
       "      <td>Online</td>\n",
       "      <td>0</td>\n",
       "      <td>0</td>\n",
       "      <td>0</td>\n",
       "      <td>94.50</td>\n",
       "      <td>0</td>\n",
       "      <td>Canceled</td>\n",
       "    </tr>\n",
       "  </tbody>\n",
       "</table>\n",
       "</div>"
      ],
      "text/plain": [
       "  Booking_ID  no_of_adults  no_of_children  no_of_weekend_nights  \\\n",
       "0   INN00001             2               0                     1   \n",
       "1   INN00002             2               0                     2   \n",
       "2   INN00003             1               0                     2   \n",
       "3   INN00004             2               0                     0   \n",
       "4   INN00005             2               0                     1   \n",
       "\n",
       "   no_of_week_nights type_of_meal_plan  required_car_parking_space  \\\n",
       "0                  2       Meal Plan 1                           0   \n",
       "1                  3      Not Selected                           0   \n",
       "2                  1       Meal Plan 1                           0   \n",
       "3                  2       Meal Plan 1                           0   \n",
       "4                  1      Not Selected                           0   \n",
       "\n",
       "  room_type_reserved  lead_time  arrival_year  arrival_month  arrival_date  \\\n",
       "0        Room_Type 1        224          2017             10             2   \n",
       "1        Room_Type 1          5          2018             11             6   \n",
       "2        Room_Type 1          1          2018              2            28   \n",
       "3        Room_Type 1        211          2018              5            20   \n",
       "4        Room_Type 1         48          2018              4            11   \n",
       "\n",
       "  market_segment_type  repeated_guest  no_of_previous_cancellations  \\\n",
       "0             Offline               0                             0   \n",
       "1              Online               0                             0   \n",
       "2              Online               0                             0   \n",
       "3              Online               0                             0   \n",
       "4              Online               0                             0   \n",
       "\n",
       "   no_of_previous_bookings_not_canceled  avg_price_per_room  \\\n",
       "0                                     0               65.00   \n",
       "1                                     0              106.68   \n",
       "2                                     0               60.00   \n",
       "3                                     0              100.00   \n",
       "4                                     0               94.50   \n",
       "\n",
       "   no_of_special_requests booking_status  \n",
       "0                       0   Not_Canceled  \n",
       "1                       1   Not_Canceled  \n",
       "2                       0       Canceled  \n",
       "3                       0       Canceled  \n",
       "4                       0       Canceled  "
      ]
     },
     "execution_count": 3,
     "metadata": {},
     "output_type": "execute_result"
    }
   ],
   "source": [
    "df.head()"
   ]
  },
  {
   "cell_type": "code",
   "execution_count": 4,
   "id": "f729c98f-1219-4a24-bfc5-a186e4b45188",
   "metadata": {},
   "outputs": [],
   "source": [
    "df.drop(\"Booking_ID\",axis=1,inplace=True)"
   ]
  },
  {
   "cell_type": "code",
   "execution_count": 5,
   "id": "51712ad0-97a6-41a0-8df1-60833c93a763",
   "metadata": {},
   "outputs": [],
   "source": [
    "df.drop(\"lead_time\",axis=1,inplace=True)"
   ]
  },
  {
   "cell_type": "markdown",
   "id": "85944543-5309-4ba9-afd9-ebe4c01967d8",
   "metadata": {},
   "source": [
    "#### Booking Id and lead time column Removed Because it does not show any relation with other features and it does not give any important Information"
   ]
  },
  {
   "cell_type": "markdown",
   "id": "3d600f6c-560e-4647-a8b6-755ec1d14cce",
   "metadata": {},
   "source": [
    "#### Cheking null values"
   ]
  },
  {
   "cell_type": "code",
   "execution_count": 6,
   "id": "6c49d8fe-5e06-4e5a-98e5-1260fa40c019",
   "metadata": {},
   "outputs": [
    {
     "data": {
      "text/plain": [
       "no_of_adults                            0\n",
       "no_of_children                          0\n",
       "no_of_weekend_nights                    0\n",
       "no_of_week_nights                       0\n",
       "type_of_meal_plan                       0\n",
       "required_car_parking_space              0\n",
       "room_type_reserved                      0\n",
       "arrival_year                            0\n",
       "arrival_month                           0\n",
       "arrival_date                            0\n",
       "market_segment_type                     0\n",
       "repeated_guest                          0\n",
       "no_of_previous_cancellations            0\n",
       "no_of_previous_bookings_not_canceled    0\n",
       "avg_price_per_room                      0\n",
       "no_of_special_requests                  0\n",
       "booking_status                          0\n",
       "dtype: int64"
      ]
     },
     "execution_count": 6,
     "metadata": {},
     "output_type": "execute_result"
    }
   ],
   "source": [
    "df.isna().sum()"
   ]
  },
  {
   "cell_type": "code",
   "execution_count": 7,
   "id": "85857cf8-3bda-422c-b671-fb27cfe0b836",
   "metadata": {},
   "outputs": [
    {
     "name": "stdout",
     "output_type": "stream",
     "text": [
      "<class 'pandas.core.frame.DataFrame'>\n",
      "RangeIndex: 36275 entries, 0 to 36274\n",
      "Data columns (total 17 columns):\n",
      " #   Column                                Non-Null Count  Dtype  \n",
      "---  ------                                --------------  -----  \n",
      " 0   no_of_adults                          36275 non-null  int64  \n",
      " 1   no_of_children                        36275 non-null  int64  \n",
      " 2   no_of_weekend_nights                  36275 non-null  int64  \n",
      " 3   no_of_week_nights                     36275 non-null  int64  \n",
      " 4   type_of_meal_plan                     36275 non-null  object \n",
      " 5   required_car_parking_space            36275 non-null  int64  \n",
      " 6   room_type_reserved                    36275 non-null  object \n",
      " 7   arrival_year                          36275 non-null  int64  \n",
      " 8   arrival_month                         36275 non-null  int64  \n",
      " 9   arrival_date                          36275 non-null  int64  \n",
      " 10  market_segment_type                   36275 non-null  object \n",
      " 11  repeated_guest                        36275 non-null  int64  \n",
      " 12  no_of_previous_cancellations          36275 non-null  int64  \n",
      " 13  no_of_previous_bookings_not_canceled  36275 non-null  int64  \n",
      " 14  avg_price_per_room                    36275 non-null  float64\n",
      " 15  no_of_special_requests                36275 non-null  int64  \n",
      " 16  booking_status                        36275 non-null  object \n",
      "dtypes: float64(1), int64(12), object(4)\n",
      "memory usage: 4.7+ MB\n"
     ]
    }
   ],
   "source": [
    "df.info()"
   ]
  },
  {
   "cell_type": "code",
   "execution_count": 8,
   "id": "98d773c8-251d-49b2-beec-284481cdb5ad",
   "metadata": {},
   "outputs": [
    {
     "data": {
      "image/png": "[encoded data removed]",
      "text/plain": [
       "<Figure size 640x480 with 1 Axes>"
      ]
     },
     "metadata": {},
     "output_type": "display_data"
    }
   ],
   "source": [
    "plt.title(\"Arrival Month\")\n",
    "sns.countplot(df,x=\"arrival_month\",color = \"red\")\n",
    "plt.show()"
   ]
  },
  {
   "cell_type": "markdown",
   "id": "49f7586c-0d9a-4c66-b46f-c18577602f9b",
   "metadata": {},
   "source": [
    "#### arrival month graph indicates the highest booking in month 10, the conclusion could be that\n",
    "#### Octoter experiences the peak season for hotel reservations, suggesting potential opportunities\n",
    "#### for revenue maximization and resource allocation during this period."
   ]
  },
  {
   "cell_type": "code",
   "execution_count": 9,
   "id": "c9eb1c69-2797-41d9-b0d9-97692ac1878f",
   "metadata": {},
   "outputs": [
    {
     "data": {
      "text/plain": [
       "Text(0, 0.5, 'Counting values')"
      ]
     },
     "execution_count": 9,
     "metadata": {},
     "output_type": "execute_result"
    },
    {
     "data": {
      "image/png": "[encoded data removed]",
      "text/plain": [
       "<Figure size 2000x2500 with 2 Axes>"
      ]
     },
     "metadata": {},
     "output_type": "display_data"
    }
   ],
   "source": [
    "plt.figure(figsize= (20,25))\n",
    "plt.subplot(4,2,3)\n",
    "plt.title(\"Type of Meal\")\n",
    "sns.countplot(x=df[\"type_of_meal_plan\"], palette=\"tab10\", data=df)\n",
    "plt.xlabel(\"type of Meal\")\n",
    "plt.ylabel(\"Counting values\")\n",
    "\n",
    "plt.subplot(4,2,4)\n",
    "plt.title(\"Types of Rooms\")\n",
    "sns.countplot (x=df[\"room_type_reserved\"], palette=\"tab10\", data=df)\n",
    "plt.xlabel(\"Count of number of Type of Rooms\")\n",
    "plt.ylabel(\"Counting values\")"
   ]
  },
  {
   "cell_type": "markdown",
   "id": "ed75b624-93c6-479c-ac72-7f00c017b16d",
   "metadata": {},
   "source": [
    "#### in this graphs we can observe that type of meal plan - 1 is prefered more tham others\n",
    "\n",
    "#### in second plot we can observe that type - 1 room is mostly prefered by the customers"
   ]
  },
  {
   "cell_type": "code",
   "execution_count": 10,
   "id": "201055ea-b4d6-4b25-830d-54c2385626c7",
   "metadata": {},
   "outputs": [
    {
     "data": {
      "image/png": "[encoded data removed]",
      "text/plain": [
       "<Figure size 500x600 with 1 Axes>"
      ]
     },
     "metadata": {},
     "output_type": "display_data"
    }
   ],
   "source": [
    "room_type_counts = df['booking_status'].value_counts()\n",
    "# Plot\n",
    "plt.figure(figsize=(5, 6))\n",
    "plt.pie(room_type_counts, labels=room_type_counts.index, autopct='%1.1f%%', startangle=90)\n",
    "plt.title('Count of Booking Status Canceled and Not Canceled By The Customers')\n",
    "plt.axis('equal')\n",
    "plt.show()"
   ]
  },
  {
   "cell_type": "markdown",
   "id": "bcf4b37b-a9ed-478d-ba38-977eedf9a714",
   "metadata": {},
   "source": [
    "### Insights : Customers Who Canceled Booking Has Less Percentage Compare to Not Canceled"
   ]
  },
  {
   "cell_type": "code",
   "execution_count": 11,
   "id": "ece94981-6ad3-4dac-800d-47f1ee4d6ad8",
   "metadata": {},
   "outputs": [
    {
     "data": {
      "image/png": "[encoded data removed]",
      "text/plain": [
       "<Figure size 640x480 with 1 Axes>"
      ]
     },
     "metadata": {},
     "output_type": "display_data"
    }
   ],
   "source": [
    "sns.countplot(x=df[\"arrival_year\"])\n",
    "plt.show()"
   ]
  },
  {
   "cell_type": "markdown",
   "id": "90705e1d-454c-4e2d-924d-7fcb56520622",
   "metadata": {},
   "source": [
    "#### Insights :  Here we Observed that maximum customers arrives in in the year of 2018"
   ]
  },
  {
   "cell_type": "code",
   "execution_count": 12,
   "id": "214ffe4a-bd1f-4e65-80ae-7e01ff463946",
   "metadata": {},
   "outputs": [
    {
     "data": {
      "image/png": "[encoded data removed]",
      "text/plain": [
       "<Figure size 640x480 with 1 Axes>"
      ]
     },
     "metadata": {},
     "output_type": "display_data"
    }
   ],
   "source": [
    "plt.title(\"Arrival Date\")\n",
    "sns.histplot(df[\"arrival_date\"],bins=25,kde=True)\n",
    "plt.show()"
   ]
  },
  {
   "cell_type": "markdown",
   "id": "a9f6ae1f-3a8d-4a78-a8c1-6f6832753a37",
   "metadata": {},
   "source": [
    "### Insights : Maximum Customers Arrives in Hotel in the Middle of Month Between  Dates of 10 to 20"
   ]
  },
  {
   "cell_type": "code",
   "execution_count": 13,
   "id": "c393dc53-971f-460c-8ace-42d0341fbd6b",
   "metadata": {},
   "outputs": [
    {
     "data": {
      "image/png": "[encoded data removed]",
      "text/plain": [
       "<Figure size 800x600 with 1 Axes>"
      ]
     },
     "metadata": {},
     "output_type": "display_data"
    }
   ],
   "source": [
    "plt.figure(figsize=(8,6))\n",
    "sns.countplot(x=df[\"arrival_date\"],hue=df[\"booking_status\"],color=\"b\")\n",
    "plt.show()"
   ]
  },
  {
   "cell_type": "markdown",
   "id": "bb3afb87-4ca6-441b-96fc-891eb3d5c3b4",
   "metadata": {},
   "source": [
    "#### we observed that on the second of the month there is the highest number of non_coancelled hotel reservation,\n",
    "#### where as on the 15th of the month there is the highest number of cancelled hotel reservation. "
   ]
  },
  {
   "cell_type": "markdown",
   "id": "f7ad0a1a-c04a-4e75-bcc1-089e2d610245",
   "metadata": {},
   "source": [
    "### Correlation analysis a valuable tool in exploratory data analysis predictive modeling providing insights into the relationships \n",
    "### between variables and guiding decision_making processes in various domaains so we use correlation on different feature of our data"
   ]
  },
  {
   "cell_type": "code",
   "execution_count": 14,
   "id": "8d4b4e37-1437-4bc8-ab73-ea4f42395378",
   "metadata": {},
   "outputs": [
    {
     "data": {
      "text/plain": [
       "booking_status\n",
       "Canceled        1.909550\n",
       "Not_Canceled    1.813489\n",
       "Name: no_of_adults, dtype: float64"
      ]
     },
     "execution_count": 14,
     "metadata": {},
     "output_type": "execute_result"
    }
   ],
   "source": [
    "df.groupby(\"booking_status\")['no_of_adults'].mean()"
   ]
  },
  {
   "cell_type": "code",
   "execution_count": 15,
   "id": "d333486e-e081-4403-b83e-0b5dec400320",
   "metadata": {},
   "outputs": [
    {
     "data": {
      "text/html": [
       "<div>\n",
       "<style scoped>\n",
       "    .dataframe tbody tr th:only-of-type {\n",
       "        vertical-align: middle;\n",
       "    }\n",
       "\n",
       "    .dataframe tbody tr th {\n",
       "        vertical-align: top;\n",
       "    }\n",
       "\n",
       "    .dataframe thead th {\n",
       "        text-align: right;\n",
       "    }\n",
       "</style>\n",
       "<table border=\"1\" class=\"dataframe\">\n",
       "  <thead>\n",
       "    <tr style=\"text-align: right;\">\n",
       "      <th></th>\n",
       "      <th>no_of_children</th>\n",
       "      <th>avg_price_per_room</th>\n",
       "    </tr>\n",
       "  </thead>\n",
       "  <tbody>\n",
       "    <tr>\n",
       "      <th>no_of_children</th>\n",
       "      <td>1.000000</td>\n",
       "      <td>0.337728</td>\n",
       "    </tr>\n",
       "    <tr>\n",
       "      <th>avg_price_per_room</th>\n",
       "      <td>0.337728</td>\n",
       "      <td>1.000000</td>\n",
       "    </tr>\n",
       "  </tbody>\n",
       "</table>\n",
       "</div>"
      ],
      "text/plain": [
       "                    no_of_children  avg_price_per_room\n",
       "no_of_children            1.000000            0.337728\n",
       "avg_price_per_room        0.337728            1.000000"
      ]
     },
     "execution_count": 15,
     "metadata": {},
     "output_type": "execute_result"
    }
   ],
   "source": [
    "df[[\"no_of_children\",\"avg_price_per_room\"]].corr(method=\"pearson\")"
   ]
  },
  {
   "cell_type": "markdown",
   "id": "10683f30-b11a-47e6-80a1-dc8cfc5d190f",
   "metadata": {},
   "source": [
    "####\n",
    "#### The correlation coefficient between the 'Number of children' and the 'Average price per room' is approximately\n",
    "#### 0.337728, indicating a moderate positive linear relationship between these two variables.\n",
    "####"
   ]
  },
  {
   "cell_type": "code",
   "execution_count": 39,
   "id": "549f1e38",
   "metadata": {},
   "outputs": [
    {
     "data": {
      "text/html": [
       "<div>\n",
       "<style scoped>\n",
       "    .dataframe tbody tr th:only-of-type {\n",
       "        vertical-align: middle;\n",
       "    }\n",
       "\n",
       "    .dataframe tbody tr th {\n",
       "        vertical-align: top;\n",
       "    }\n",
       "\n",
       "    .dataframe thead th {\n",
       "        text-align: right;\n",
       "    }\n",
       "</style>\n",
       "<table border=\"1\" class=\"dataframe\">\n",
       "  <thead>\n",
       "    <tr style=\"text-align: right;\">\n",
       "      <th></th>\n",
       "      <th>no_of_children</th>\n",
       "      <th>booking_status</th>\n",
       "    </tr>\n",
       "  </thead>\n",
       "  <tbody>\n",
       "    <tr>\n",
       "      <th>no_of_children</th>\n",
       "      <td>1.000000</td>\n",
       "      <td>-0.033078</td>\n",
       "    </tr>\n",
       "    <tr>\n",
       "      <th>booking_status</th>\n",
       "      <td>-0.033078</td>\n",
       "      <td>1.000000</td>\n",
       "    </tr>\n",
       "  </tbody>\n",
       "</table>\n",
       "</div>"
      ],
      "text/plain": [
       "                no_of_children  booking_status\n",
       "no_of_children        1.000000       -0.033078\n",
       "booking_status       -0.033078        1.000000"
      ]
     },
     "execution_count": 39,
     "metadata": {},
     "output_type": "execute_result"
    }
   ],
   "source": [
    "df[[\"no_of_children\",\"booking_status\"]].corr(method=\"pearson\")"
   ]
  },
  {
   "cell_type": "markdown",
   "id": "07d2b72c-47ef-4ac9-bcda-76bdc18f5252",
   "metadata": {},
   "source": [
    "###\n",
    "#### The correlation coefficient between the 'Number of children' and 'Booking status' is approximately -0.033078,\n",
    "#### suggesting a weak negative linear relationship between the two variables.\n",
    "###"
   ]
  },
  {
   "cell_type": "code",
   "execution_count": null,
   "id": "5d9907cb",
   "metadata": {},
   "outputs": [],
   "source": [
    "df[[\"no_of_adults\",\"avg_price_per_room\"]].corr(method=\"pearson\")"
   ]
  },
  {
   "cell_type": "markdown",
   "id": "43346c59-da50-4a80-84da-8e212097d25b",
   "metadata": {},
   "source": [
    "###\n",
    "#### The correlation coefficient between the 'Number of adults' and the 'Average price per room' is approximately\n",
    "#### 0.296886, suggesting a moderate positive linear relationship between these two variables.\n",
    "####"
   ]
  },
  {
   "cell_type": "code",
   "execution_count": null,
   "id": "e8bbedff-dead-4c35-a40b-121f9f55696c",
   "metadata": {},
   "outputs": [],
   "source": [
    "df[\"repeated_guest\"].unique()"
   ]
  },
  {
   "cell_type": "code",
   "execution_count": null,
   "id": "099bdda2-c52d-4912-b558-7cbb212fa7bd",
   "metadata": {},
   "outputs": [],
   "source": [
    "df[\"room_type_reserved\"].unique()"
   ]
  },
  {
   "cell_type": "markdown",
   "id": "a0159349-8428-49d9-a552-12bf921701ca",
   "metadata": {},
   "source": [
    "#### applying appropriate mappings to the data,can extract valuable insights and make informed decisions.\n",
    "#### so, we are converting two columns (room type reserved, type of meal plan) into numeric form"
   ]
  },
  {
   "cell_type": "code",
   "execution_count": 17,
   "id": "1d915a24-8836-4405-9b36-6c59619d0f04",
   "metadata": {},
   "outputs": [],
   "source": [
    "Room = {\"Room_Type 1\" : 1,\n",
    "        \"Room_Type 2\" : 2,\n",
    "        \"Room_Type 3\" : 3,\n",
    "        \"Room_Type 4\" : 4,\n",
    "        \"Room_Type 5\" : 5,\n",
    "        \"Room_Type 6\" : 6,\n",
    "        \"Room_Type 7\" : 7}"
   ]
  },
  {
   "cell_type": "code",
   "execution_count": 18,
   "id": "8b1ad771-0972-4959-a407-538084c74434",
   "metadata": {},
   "outputs": [],
   "source": [
    "Meal = {\"Meal Plan 1\" : 1,\n",
    "        \"Meal Plan 2\" : 2,\n",
    "        \"Meal Plan 3\" : 3,\n",
    "        \"Not Selected\": 0}"
   ]
  },
  {
   "cell_type": "code",
   "execution_count": 19,
   "id": "d53deea6-7424-4d75-8764-ba62c919b2cc",
   "metadata": {},
   "outputs": [
    {
     "data": {
      "text/plain": [
       "array(['Not_Canceled', 'Canceled'], dtype=object)"
      ]
     },
     "execution_count": 19,
     "metadata": {},
     "output_type": "execute_result"
    }
   ],
   "source": [
    "df[\"booking_status\"].unique()"
   ]
  },
  {
   "cell_type": "code",
   "execution_count": 20,
   "id": "b2dcfc0b-c118-408b-869b-a3e9815727b0",
   "metadata": {},
   "outputs": [],
   "source": [
    "status = {\"Canceled\" :  0,\n",
    "        \"Not_Canceled\" : 1}"
   ]
  },
  {
   "cell_type": "code",
   "execution_count": 21,
   "id": "7204390e-cf69-40fe-8919-fa727baababa",
   "metadata": {},
   "outputs": [
    {
     "data": {
      "text/plain": [
       "{'Canceled': 0, 'Not_Canceled': 1}"
      ]
     },
     "execution_count": 21,
     "metadata": {},
     "output_type": "execute_result"
    }
   ],
   "source": [
    "status"
   ]
  },
  {
   "cell_type": "code",
   "execution_count": 22,
   "id": "e5690c8c-4c11-4e98-b39d-3692399fe938",
   "metadata": {},
   "outputs": [],
   "source": [
    "df[\"booking_status\"] = df[\"booking_status\"].map(status)"
   ]
  },
  {
   "cell_type": "code",
   "execution_count": 23,
   "id": "bc56181d-8f07-44d0-a61a-fcee8d811cc7",
   "metadata": {},
   "outputs": [
    {
     "data": {
      "text/plain": [
       "{'Meal Plan 1': 1, 'Meal Plan 2': 2, 'Meal Plan 3': 3, 'Not Selected': 0}"
      ]
     },
     "execution_count": 23,
     "metadata": {},
     "output_type": "execute_result"
    }
   ],
   "source": [
    "Meal"
   ]
  },
  {
   "cell_type": "code",
   "execution_count": 24,
   "id": "61cc899c-1c81-4d1f-a535-577fb91c4cc5",
   "metadata": {},
   "outputs": [],
   "source": [
    "df[\"type_of_meal_plan\"] = df[\"type_of_meal_plan\"].map(Meal)"
   ]
  },
  {
   "cell_type": "code",
   "execution_count": 25,
   "id": "fece7bde-f8ab-4047-81d8-d303d0e70c4f",
   "metadata": {},
   "outputs": [
    {
     "data": {
      "text/plain": [
       "array([1, 0, 2, 3], dtype=int64)"
      ]
     },
     "execution_count": 25,
     "metadata": {},
     "output_type": "execute_result"
    }
   ],
   "source": [
    "df[\"type_of_meal_plan\"].unique()"
   ]
  },
  {
   "cell_type": "code",
   "execution_count": 26,
   "id": "e7ea44a1-0d59-4fac-8602-e781d3c36e17",
   "metadata": {},
   "outputs": [
    {
     "data": {
      "text/plain": [
       "{'Room_Type 1': 1,\n",
       " 'Room_Type 2': 2,\n",
       " 'Room_Type 3': 3,\n",
       " 'Room_Type 4': 4,\n",
       " 'Room_Type 5': 5,\n",
       " 'Room_Type 6': 6,\n",
       " 'Room_Type 7': 7}"
      ]
     },
     "execution_count": 26,
     "metadata": {},
     "output_type": "execute_result"
    }
   ],
   "source": [
    "Room"
   ]
  },
  {
   "cell_type": "code",
   "execution_count": 27,
   "id": "6187138a-9608-44ce-8b12-4c3764c09e86",
   "metadata": {},
   "outputs": [
    {
     "name": "stdout",
     "output_type": "stream",
     "text": [
      "<class 'pandas.core.frame.DataFrame'>\n",
      "RangeIndex: 36275 entries, 0 to 36274\n",
      "Data columns (total 17 columns):\n",
      " #   Column                                Non-Null Count  Dtype  \n",
      "---  ------                                --------------  -----  \n",
      " 0   no_of_adults                          36275 non-null  int64  \n",
      " 1   no_of_children                        36275 non-null  int64  \n",
      " 2   no_of_weekend_nights                  36275 non-null  int64  \n",
      " 3   no_of_week_nights                     36275 non-null  int64  \n",
      " 4   type_of_meal_plan                     36275 non-null  int64  \n",
      " 5   required_car_parking_space            36275 non-null  int64  \n",
      " 6   room_type_reserved                    36275 non-null  object \n",
      " 7   arrival_year                          36275 non-null  int64  \n",
      " 8   arrival_month                         36275 non-null  int64  \n",
      " 9   arrival_date                          36275 non-null  int64  \n",
      " 10  market_segment_type                   36275 non-null  object \n",
      " 11  repeated_guest                        36275 non-null  int64  \n",
      " 12  no_of_previous_cancellations          36275 non-null  int64  \n",
      " 13  no_of_previous_bookings_not_canceled  36275 non-null  int64  \n",
      " 14  avg_price_per_room                    36275 non-null  float64\n",
      " 15  no_of_special_requests                36275 non-null  int64  \n",
      " 16  booking_status                        36275 non-null  int64  \n",
      "dtypes: float64(1), int64(14), object(2)\n",
      "memory usage: 4.7+ MB\n"
     ]
    }
   ],
   "source": [
    "df.info()"
   ]
  },
  {
   "cell_type": "code",
   "execution_count": 28,
   "id": "1acfdc35-f38f-411f-a0d2-97403e1d6c78",
   "metadata": {},
   "outputs": [
    {
     "data": {
      "text/plain": [
       "array(['Room_Type 1', 'Room_Type 4', 'Room_Type 2', 'Room_Type 6',\n",
       "       'Room_Type 5', 'Room_Type 7', 'Room_Type 3'], dtype=object)"
      ]
     },
     "execution_count": 28,
     "metadata": {},
     "output_type": "execute_result"
    }
   ],
   "source": [
    "df['room_type_reserved'].unique()"
   ]
  },
  {
   "cell_type": "code",
   "execution_count": 29,
   "id": "f03a5844-e155-42bc-99a7-ebc4cab60a46",
   "metadata": {},
   "outputs": [],
   "source": [
    "df[\"room_type_reserved\"] = df['room_type_reserved'].map(Room)"
   ]
  },
  {
   "cell_type": "code",
   "execution_count": 30,
   "id": "64bd2538-3b4e-4031-b649-a4c9c27c7b80",
   "metadata": {},
   "outputs": [
    {
     "name": "stdout",
     "output_type": "stream",
     "text": [
      "<class 'pandas.core.frame.DataFrame'>\n",
      "RangeIndex: 36275 entries, 0 to 36274\n",
      "Data columns (total 17 columns):\n",
      " #   Column                                Non-Null Count  Dtype  \n",
      "---  ------                                --------------  -----  \n",
      " 0   no_of_adults                          36275 non-null  int64  \n",
      " 1   no_of_children                        36275 non-null  int64  \n",
      " 2   no_of_weekend_nights                  36275 non-null  int64  \n",
      " 3   no_of_week_nights                     36275 non-null  int64  \n",
      " 4   type_of_meal_plan                     36275 non-null  int64  \n",
      " 5   required_car_parking_space            36275 non-null  int64  \n",
      " 6   room_type_reserved                    36275 non-null  int64  \n",
      " 7   arrival_year                          36275 non-null  int64  \n",
      " 8   arrival_month                         36275 non-null  int64  \n",
      " 9   arrival_date                          36275 non-null  int64  \n",
      " 10  market_segment_type                   36275 non-null  object \n",
      " 11  repeated_guest                        36275 non-null  int64  \n",
      " 12  no_of_previous_cancellations          36275 non-null  int64  \n",
      " 13  no_of_previous_bookings_not_canceled  36275 non-null  int64  \n",
      " 14  avg_price_per_room                    36275 non-null  float64\n",
      " 15  no_of_special_requests                36275 non-null  int64  \n",
      " 16  booking_status                        36275 non-null  int64  \n",
      "dtypes: float64(1), int64(15), object(1)\n",
      "memory usage: 4.7+ MB\n"
     ]
    }
   ],
   "source": [
    "df.info()"
   ]
  },
  {
   "cell_type": "code",
   "execution_count": 31,
   "id": "8afaab7b-2011-4fd8-be5c-398f9109eeee",
   "metadata": {},
   "outputs": [
    {
     "data": {
      "text/plain": [
       "market_segment_type\n",
       "Online           23214\n",
       "Offline          10528\n",
       "Corporate         2017\n",
       "Complementary      391\n",
       "Aviation           125\n",
       "Name: count, dtype: int64"
      ]
     },
     "execution_count": 31,
     "metadata": {},
     "output_type": "execute_result"
    }
   ],
   "source": [
    "df[\"market_segment_type\"].value_counts()"
   ]
  },
  {
   "cell_type": "code",
   "execution_count": 32,
   "id": "73575311-2326-4de7-a9fb-e1a02c37469a",
   "metadata": {},
   "outputs": [],
   "source": [
    "from sklearn.preprocessing import LabelEncoder"
   ]
  },
  {
   "cell_type": "code",
   "execution_count": 33,
   "id": "017c19f1-5c79-48dd-915c-ff0753c5c594",
   "metadata": {},
   "outputs": [],
   "source": [
    "le = LabelEncoder()"
   ]
  },
  {
   "cell_type": "code",
   "execution_count": 34,
   "id": "e74cbc84-49f4-4d83-9ef4-57377b407e2b",
   "metadata": {},
   "outputs": [],
   "source": [
    "df[\"market_segment_type\"] = le.fit_transform(df[\"market_segment_type\"])"
   ]
  },
  {
   "cell_type": "code",
   "execution_count": 35,
   "id": "4fefd74a-dbd6-40af-80b9-a5c44402ba62",
   "metadata": {},
   "outputs": [],
   "source": [
    "df[\"avg_price_per_room\"] = df[\"avg_price_per_room\"].astype(int)"
   ]
  },
  {
   "cell_type": "code",
   "execution_count": 36,
   "id": "6e73ea7d-9f10-41c8-881d-0d0a063c7736",
   "metadata": {},
   "outputs": [],
   "source": [
    "data = df"
   ]
  },
  {
   "cell_type": "code",
   "execution_count": 37,
   "id": "64aa638f-7626-4508-bd16-2325a73aaa8e",
   "metadata": {},
   "outputs": [
    {
     "data": {
      "text/html": [
       "<div>\n",
       "<style scoped>\n",
       "    .dataframe tbody tr th:only-of-type {\n",
       "        vertical-align: middle;\n",
       "    }\n",
       "\n",
       "    .dataframe tbody tr th {\n",
       "        vertical-align: top;\n",
       "    }\n",
       "\n",
       "    .dataframe thead th {\n",
       "        text-align: right;\n",
       "    }\n",
       "</style>\n",
       "<table border=\"1\" class=\"dataframe\">\n",
       "  <thead>\n",
       "    <tr style=\"text-align: right;\">\n",
       "      <th></th>\n",
       "      <th>no_of_adults</th>\n",
       "      <th>no_of_children</th>\n",
       "      <th>no_of_weekend_nights</th>\n",
       "      <th>no_of_week_nights</th>\n",
       "      <th>type_of_meal_plan</th>\n",
       "      <th>required_car_parking_space</th>\n",
       "      <th>room_type_reserved</th>\n",
       "      <th>arrival_year</th>\n",
       "      <th>arrival_month</th>\n",
       "      <th>arrival_date</th>\n",
       "      <th>market_segment_type</th>\n",
       "      <th>repeated_guest</th>\n",
       "      <th>no_of_previous_cancellations</th>\n",
       "      <th>no_of_previous_bookings_not_canceled</th>\n",
       "      <th>avg_price_per_room</th>\n",
       "      <th>no_of_special_requests</th>\n",
       "      <th>booking_status</th>\n",
       "    </tr>\n",
       "  </thead>\n",
       "  <tbody>\n",
       "    <tr>\n",
       "      <th>0</th>\n",
       "      <td>2</td>\n",
       "      <td>0</td>\n",
       "      <td>1</td>\n",
       "      <td>2</td>\n",
       "      <td>1</td>\n",
       "      <td>0</td>\n",
       "      <td>1</td>\n",
       "      <td>2017</td>\n",
       "      <td>10</td>\n",
       "      <td>2</td>\n",
       "      <td>3</td>\n",
       "      <td>0</td>\n",
       "      <td>0</td>\n",
       "      <td>0</td>\n",
       "      <td>65</td>\n",
       "      <td>0</td>\n",
       "      <td>1</td>\n",
       "    </tr>\n",
       "    <tr>\n",
       "      <th>1</th>\n",
       "      <td>2</td>\n",
       "      <td>0</td>\n",
       "      <td>2</td>\n",
       "      <td>3</td>\n",
       "      <td>0</td>\n",
       "      <td>0</td>\n",
       "      <td>1</td>\n",
       "      <td>2018</td>\n",
       "      <td>11</td>\n",
       "      <td>6</td>\n",
       "      <td>4</td>\n",
       "      <td>0</td>\n",
       "      <td>0</td>\n",
       "      <td>0</td>\n",
       "      <td>106</td>\n",
       "      <td>1</td>\n",
       "      <td>1</td>\n",
       "    </tr>\n",
       "    <tr>\n",
       "      <th>2</th>\n",
       "      <td>1</td>\n",
       "      <td>0</td>\n",
       "      <td>2</td>\n",
       "      <td>1</td>\n",
       "      <td>1</td>\n",
       "      <td>0</td>\n",
       "      <td>1</td>\n",
       "      <td>2018</td>\n",
       "      <td>2</td>\n",
       "      <td>28</td>\n",
       "      <td>4</td>\n",
       "      <td>0</td>\n",
       "      <td>0</td>\n",
       "      <td>0</td>\n",
       "      <td>60</td>\n",
       "      <td>0</td>\n",
       "      <td>0</td>\n",
       "    </tr>\n",
       "    <tr>\n",
       "      <th>3</th>\n",
       "      <td>2</td>\n",
       "      <td>0</td>\n",
       "      <td>0</td>\n",
       "      <td>2</td>\n",
       "      <td>1</td>\n",
       "      <td>0</td>\n",
       "      <td>1</td>\n",
       "      <td>2018</td>\n",
       "      <td>5</td>\n",
       "      <td>20</td>\n",
       "      <td>4</td>\n",
       "      <td>0</td>\n",
       "      <td>0</td>\n",
       "      <td>0</td>\n",
       "      <td>100</td>\n",
       "      <td>0</td>\n",
       "      <td>0</td>\n",
       "    </tr>\n",
       "    <tr>\n",
       "      <th>4</th>\n",
       "      <td>2</td>\n",
       "      <td>0</td>\n",
       "      <td>1</td>\n",
       "      <td>1</td>\n",
       "      <td>0</td>\n",
       "      <td>0</td>\n",
       "      <td>1</td>\n",
       "      <td>2018</td>\n",
       "      <td>4</td>\n",
       "      <td>11</td>\n",
       "      <td>4</td>\n",
       "      <td>0</td>\n",
       "      <td>0</td>\n",
       "      <td>0</td>\n",
       "      <td>94</td>\n",
       "      <td>0</td>\n",
       "      <td>0</td>\n",
       "    </tr>\n",
       "  </tbody>\n",
       "</table>\n",
       "</div>"
      ],
      "text/plain": [
       "   no_of_adults  no_of_children  no_of_weekend_nights  no_of_week_nights  \\\n",
       "0             2               0                     1                  2   \n",
       "1             2               0                     2                  3   \n",
       "2             1               0                     2                  1   \n",
       "3             2               0                     0                  2   \n",
       "4             2               0                     1                  1   \n",
       "\n",
       "   type_of_meal_plan  required_car_parking_space  room_type_reserved  \\\n",
       "0                  1                           0                   1   \n",
       "1                  0                           0                   1   \n",
       "2                  1                           0                   1   \n",
       "3                  1                           0                   1   \n",
       "4                  0                           0                   1   \n",
       "\n",
       "   arrival_year  arrival_month  arrival_date  market_segment_type  \\\n",
       "0          2017             10             2                    3   \n",
       "1          2018             11             6                    4   \n",
       "2          2018              2            28                    4   \n",
       "3          2018              5            20                    4   \n",
       "4          2018              4            11                    4   \n",
       "\n",
       "   repeated_guest  no_of_previous_cancellations  \\\n",
       "0               0                             0   \n",
       "1               0                             0   \n",
       "2               0                             0   \n",
       "3               0                             0   \n",
       "4               0                             0   \n",
       "\n",
       "   no_of_previous_bookings_not_canceled  avg_price_per_room  \\\n",
       "0                                     0                  65   \n",
       "1                                     0                 106   \n",
       "2                                     0                  60   \n",
       "3                                     0                 100   \n",
       "4                                     0                  94   \n",
       "\n",
       "   no_of_special_requests  booking_status  \n",
       "0                       0               1  \n",
       "1                       1               1  \n",
       "2                       0               0  \n",
       "3                       0               0  \n",
       "4                       0               0  "
      ]
     },
     "execution_count": 37,
     "metadata": {},
     "output_type": "execute_result"
    }
   ],
   "source": [
    "df.head()"
   ]
  },
  {
   "cell_type": "code",
   "execution_count": 38,
   "id": "e796c9e1-c977-42ca-89a6-66700c4fafa8",
   "metadata": {},
   "outputs": [
    {
     "data": {
      "text/html": [
       "<div>\n",
       "<style scoped>\n",
       "    .dataframe tbody tr th:only-of-type {\n",
       "        vertical-align: middle;\n",
       "    }\n",
       "\n",
       "    .dataframe tbody tr th {\n",
       "        vertical-align: top;\n",
       "    }\n",
       "\n",
       "    .dataframe thead th {\n",
       "        text-align: right;\n",
       "    }\n",
       "</style>\n",
       "<table border=\"1\" class=\"dataframe\">\n",
       "  <thead>\n",
       "    <tr style=\"text-align: right;\">\n",
       "      <th></th>\n",
       "      <th>no_of_adults</th>\n",
       "      <th>no_of_children</th>\n",
       "      <th>no_of_weekend_nights</th>\n",
       "      <th>no_of_week_nights</th>\n",
       "      <th>type_of_meal_plan</th>\n",
       "      <th>required_car_parking_space</th>\n",
       "      <th>room_type_reserved</th>\n",
       "      <th>arrival_year</th>\n",
       "      <th>arrival_month</th>\n",
       "      <th>arrival_date</th>\n",
       "      <th>market_segment_type</th>\n",
       "      <th>repeated_guest</th>\n",
       "      <th>no_of_previous_cancellations</th>\n",
       "      <th>no_of_previous_bookings_not_canceled</th>\n",
       "      <th>avg_price_per_room</th>\n",
       "      <th>no_of_special_requests</th>\n",
       "      <th>booking_status</th>\n",
       "    </tr>\n",
       "  </thead>\n",
       "  <tbody>\n",
       "    <tr>\n",
       "      <th>count</th>\n",
       "      <td>36275.000000</td>\n",
       "      <td>36275.000000</td>\n",
       "      <td>36275.000000</td>\n",
       "      <td>36275.000000</td>\n",
       "      <td>36275.000000</td>\n",
       "      <td>36275.000000</td>\n",
       "      <td>36275.000000</td>\n",
       "      <td>36275.000000</td>\n",
       "      <td>36275.000000</td>\n",
       "      <td>36275.000000</td>\n",
       "      <td>36275.000000</td>\n",
       "      <td>36275.000000</td>\n",
       "      <td>36275.000000</td>\n",
       "      <td>36275.000000</td>\n",
       "      <td>36275.000000</td>\n",
       "      <td>36275.000000</td>\n",
       "      <td>36275.000000</td>\n",
       "    </tr>\n",
       "    <tr>\n",
       "      <th>mean</th>\n",
       "      <td>1.844962</td>\n",
       "      <td>0.105279</td>\n",
       "      <td>0.810724</td>\n",
       "      <td>2.204300</td>\n",
       "      <td>0.949966</td>\n",
       "      <td>0.030986</td>\n",
       "      <td>1.708890</td>\n",
       "      <td>2017.820427</td>\n",
       "      <td>7.423653</td>\n",
       "      <td>15.596995</td>\n",
       "      <td>3.552447</td>\n",
       "      <td>0.025637</td>\n",
       "      <td>0.023349</td>\n",
       "      <td>0.153411</td>\n",
       "      <td>103.157298</td>\n",
       "      <td>0.619655</td>\n",
       "      <td>0.672364</td>\n",
       "    </tr>\n",
       "    <tr>\n",
       "      <th>std</th>\n",
       "      <td>0.518715</td>\n",
       "      <td>0.402648</td>\n",
       "      <td>0.870644</td>\n",
       "      <td>1.410905</td>\n",
       "      <td>0.480191</td>\n",
       "      <td>0.173281</td>\n",
       "      <td>1.399851</td>\n",
       "      <td>0.383836</td>\n",
       "      <td>3.069894</td>\n",
       "      <td>8.740447</td>\n",
       "      <td>0.681536</td>\n",
       "      <td>0.158053</td>\n",
       "      <td>0.368331</td>\n",
       "      <td>1.754171</td>\n",
       "      <td>35.066193</td>\n",
       "      <td>0.786236</td>\n",
       "      <td>0.469358</td>\n",
       "    </tr>\n",
       "    <tr>\n",
       "      <th>min</th>\n",
       "      <td>0.000000</td>\n",
       "      <td>0.000000</td>\n",
       "      <td>0.000000</td>\n",
       "      <td>0.000000</td>\n",
       "      <td>0.000000</td>\n",
       "      <td>0.000000</td>\n",
       "      <td>1.000000</td>\n",
       "      <td>2017.000000</td>\n",
       "      <td>1.000000</td>\n",
       "      <td>1.000000</td>\n",
       "      <td>0.000000</td>\n",
       "      <td>0.000000</td>\n",
       "      <td>0.000000</td>\n",
       "      <td>0.000000</td>\n",
       "      <td>0.000000</td>\n",
       "      <td>0.000000</td>\n",
       "      <td>0.000000</td>\n",
       "    </tr>\n",
       "    <tr>\n",
       "      <th>25%</th>\n",
       "      <td>2.000000</td>\n",
       "      <td>0.000000</td>\n",
       "      <td>0.000000</td>\n",
       "      <td>1.000000</td>\n",
       "      <td>1.000000</td>\n",
       "      <td>0.000000</td>\n",
       "      <td>1.000000</td>\n",
       "      <td>2018.000000</td>\n",
       "      <td>5.000000</td>\n",
       "      <td>8.000000</td>\n",
       "      <td>3.000000</td>\n",
       "      <td>0.000000</td>\n",
       "      <td>0.000000</td>\n",
       "      <td>0.000000</td>\n",
       "      <td>80.000000</td>\n",
       "      <td>0.000000</td>\n",
       "      <td>0.000000</td>\n",
       "    </tr>\n",
       "    <tr>\n",
       "      <th>50%</th>\n",
       "      <td>2.000000</td>\n",
       "      <td>0.000000</td>\n",
       "      <td>1.000000</td>\n",
       "      <td>2.000000</td>\n",
       "      <td>1.000000</td>\n",
       "      <td>0.000000</td>\n",
       "      <td>1.000000</td>\n",
       "      <td>2018.000000</td>\n",
       "      <td>8.000000</td>\n",
       "      <td>16.000000</td>\n",
       "      <td>4.000000</td>\n",
       "      <td>0.000000</td>\n",
       "      <td>0.000000</td>\n",
       "      <td>0.000000</td>\n",
       "      <td>99.000000</td>\n",
       "      <td>0.000000</td>\n",
       "      <td>1.000000</td>\n",
       "    </tr>\n",
       "    <tr>\n",
       "      <th>75%</th>\n",
       "      <td>2.000000</td>\n",
       "      <td>0.000000</td>\n",
       "      <td>2.000000</td>\n",
       "      <td>3.000000</td>\n",
       "      <td>1.000000</td>\n",
       "      <td>0.000000</td>\n",
       "      <td>1.000000</td>\n",
       "      <td>2018.000000</td>\n",
       "      <td>10.000000</td>\n",
       "      <td>23.000000</td>\n",
       "      <td>4.000000</td>\n",
       "      <td>0.000000</td>\n",
       "      <td>0.000000</td>\n",
       "      <td>0.000000</td>\n",
       "      <td>120.000000</td>\n",
       "      <td>1.000000</td>\n",
       "      <td>1.000000</td>\n",
       "    </tr>\n",
       "    <tr>\n",
       "      <th>max</th>\n",
       "      <td>4.000000</td>\n",
       "      <td>10.000000</td>\n",
       "      <td>7.000000</td>\n",
       "      <td>17.000000</td>\n",
       "      <td>3.000000</td>\n",
       "      <td>1.000000</td>\n",
       "      <td>7.000000</td>\n",
       "      <td>2018.000000</td>\n",
       "      <td>12.000000</td>\n",
       "      <td>31.000000</td>\n",
       "      <td>4.000000</td>\n",
       "      <td>1.000000</td>\n",
       "      <td>13.000000</td>\n",
       "      <td>58.000000</td>\n",
       "      <td>540.000000</td>\n",
       "      <td>5.000000</td>\n",
       "      <td>1.000000</td>\n",
       "    </tr>\n",
       "  </tbody>\n",
       "</table>\n",
       "</div>"
      ],
      "text/plain": [
       "       no_of_adults  no_of_children  no_of_weekend_nights  no_of_week_nights  \\\n",
       "count  36275.000000    36275.000000          36275.000000       36275.000000   \n",
       "mean       1.844962        0.105279              0.810724           2.204300   \n",
       "std        0.518715        0.402648              0.870644           1.410905   \n",
       "min        0.000000        0.000000              0.000000           0.000000   \n",
       "25%        2.000000        0.000000              0.000000           1.000000   \n",
       "50%        2.000000        0.000000              1.000000           2.000000   \n",
       "75%        2.000000        0.000000              2.000000           3.000000   \n",
       "max        4.000000       10.000000              7.000000          17.000000   \n",
       "\n",
       "       type_of_meal_plan  required_car_parking_space  room_type_reserved  \\\n",
       "count       36275.000000                36275.000000        36275.000000   \n",
       "mean            0.949966                    0.030986            1.708890   \n",
       "std             0.480191                    0.173281            1.399851   \n",
       "min             0.000000                    0.000000            1.000000   \n",
       "25%             1.000000                    0.000000            1.000000   \n",
       "50%             1.000000                    0.000000            1.000000   \n",
       "75%             1.000000                    0.000000            1.000000   \n",
       "max             3.000000                    1.000000            7.000000   \n",
       "\n",
       "       arrival_year  arrival_month  arrival_date  market_segment_type  \\\n",
       "count  36275.000000   36275.000000  36275.000000         36275.000000   \n",
       "mean    2017.820427       7.423653     15.596995             3.552447   \n",
       "std        0.383836       3.069894      8.740447             0.681536   \n",
       "min     2017.000000       1.000000      1.000000             0.000000   \n",
       "25%     2018.000000       5.000000      8.000000             3.000000   \n",
       "50%     2018.000000       8.000000     16.000000             4.000000   \n",
       "75%     2018.000000      10.000000     23.000000             4.000000   \n",
       "max     2018.000000      12.000000     31.000000             4.000000   \n",
       "\n",
       "       repeated_guest  no_of_previous_cancellations  \\\n",
       "count    36275.000000                  36275.000000   \n",
       "mean         0.025637                      0.023349   \n",
       "std          0.158053                      0.368331   \n",
       "min          0.000000                      0.000000   \n",
       "25%          0.000000                      0.000000   \n",
       "50%          0.000000                      0.000000   \n",
       "75%          0.000000                      0.000000   \n",
       "max          1.000000                     13.000000   \n",
       "\n",
       "       no_of_previous_bookings_not_canceled  avg_price_per_room  \\\n",
       "count                          36275.000000        36275.000000   \n",
       "mean                               0.153411          103.157298   \n",
       "std                                1.754171           35.066193   \n",
       "min                                0.000000            0.000000   \n",
       "25%                                0.000000           80.000000   \n",
       "50%                                0.000000           99.000000   \n",
       "75%                                0.000000          120.000000   \n",
       "max                               58.000000          540.000000   \n",
       "\n",
       "       no_of_special_requests  booking_status  \n",
       "count            36275.000000    36275.000000  \n",
       "mean                 0.619655        0.672364  \n",
       "std                  0.786236        0.469358  \n",
       "min                  0.000000        0.000000  \n",
       "25%                  0.000000        0.000000  \n",
       "50%                  0.000000        1.000000  \n",
       "75%                  1.000000        1.000000  \n",
       "max                  5.000000        1.000000  "
      ]
     },
     "execution_count": 38,
     "metadata": {},
     "output_type": "execute_result"
    }
   ],
   "source": [
    "df.describe()"
   ]
  },
  {
   "cell_type": "markdown",
   "id": "665908a3-2d10-4e65-8b94-03edecb840e3",
   "metadata": {},
   "source": [
    "#### the terms \"x\" and \"y\" typically represent the input features (independent variables) and\n",
    "#### the target variable (dependent variable)input features (x) represent the information used by the model\n",
    "#### for prediction, while the target variable (y) represents the quantity we are trying to predict"
   ]
  },
  {
   "cell_type": "code",
   "execution_count": 40,
   "id": "3f1f5ea9-b38e-4ef6-9bf2-6b45ad5165d0",
   "metadata": {},
   "outputs": [],
   "source": [
    "x = df.drop(\"booking_status\",axis=1)\n",
    "y = df[\"booking_status\"]"
   ]
  },
  {
   "cell_type": "code",
   "execution_count": 41,
   "id": "8d20e894-a78b-4608-bb6f-2a3aaa869ba8",
   "metadata": {},
   "outputs": [
    {
     "data": {
      "text/plain": [
       "(36275, 16)"
      ]
     },
     "execution_count": 41,
     "metadata": {},
     "output_type": "execute_result"
    }
   ],
   "source": [
    "x.shape"
   ]
  },
  {
   "cell_type": "code",
   "execution_count": 42,
   "id": "7a5bcb5f-0f97-4ab2-8373-ca0d4422381d",
   "metadata": {},
   "outputs": [
    {
     "data": {
      "text/plain": [
       "(36275,)"
      ]
     },
     "execution_count": 42,
     "metadata": {},
     "output_type": "execute_result"
    }
   ],
   "source": [
    "y.shape"
   ]
  },
  {
   "cell_type": "markdown",
   "id": "4f615112-6f53-4152-874a-edbc853e4d4f",
   "metadata": {},
   "source": [
    "#### Split data Into Train and Test allows for the Model training of the porttion of the data and evaluation on another"
   ]
  },
  {
   "cell_type": "code",
   "execution_count": 43,
   "id": "c5dd50ae-daa4-405f-8691-c21ce8067081",
   "metadata": {},
   "outputs": [],
   "source": [
    "x_tr,x_te,y_tr,y_te = train_test_split(x,y,test_size=0.3,random_state=25)"
   ]
  },
  {
   "cell_type": "code",
   "execution_count": 44,
   "id": "3d959f25-d469-4b25-a506-3810d05232d9",
   "metadata": {},
   "outputs": [
    {
     "data": {
      "text/plain": [
       "(25392, 16)"
      ]
     },
     "execution_count": 44,
     "metadata": {},
     "output_type": "execute_result"
    }
   ],
   "source": [
    "x_tr.shape"
   ]
  },
  {
   "cell_type": "code",
   "execution_count": 45,
   "id": "4981426b-a55e-41c1-94f6-d1aea4dfcfc8",
   "metadata": {},
   "outputs": [
    {
     "data": {
      "text/plain": [
       "(10883, 16)"
      ]
     },
     "execution_count": 45,
     "metadata": {},
     "output_type": "execute_result"
    }
   ],
   "source": [
    "x_te.shape"
   ]
  },
  {
   "cell_type": "markdown",
   "id": "2e19cd9c-4f2d-4d4a-b052-7056fe793a5e",
   "metadata": {},
   "source": [
    "####  Applying K - Nearest Neighbours Classifier"
   ]
  },
  {
   "cell_type": "code",
   "execution_count": 46,
   "id": "43989c43-a364-484b-838a-7c4595de9444",
   "metadata": {},
   "outputs": [],
   "source": [
    "KNN = KNeighborsClassifier(n_neighbors=3)"
   ]
  },
  {
   "cell_type": "code",
   "execution_count": 47,
   "id": "96921c96-4429-4aae-a25b-b7370d7221ec",
   "metadata": {},
   "outputs": [
    {
     "data": {
      "text/html": [
       "<style>#sk-container-id-1 {color: black;}#sk-container-id-1 pre{padding: 0;}#sk-container-id-1 div.sk-toggleable {background-color: white;}#sk-container-id-1 label.sk-toggleable__label {cursor: pointer;display: block;width: 100%;margin-bottom: 0;padding: 0.3em;box-sizing: border-box;text-align: center;}#sk-container-id-1 label.sk-toggleable__label-arrow:before {content: \"▸\";float: left;margin-right: 0.25em;color: #696969;}#sk-container-id-1 label.sk-toggleable__label-arrow:hover:before {color: black;}#sk-container-id-1 div.sk-estimator:hover label.sk-toggleable__label-arrow:before {color: black;}#sk-container-id-1 div.sk-toggleable__content {max-height: 0;max-width: 0;overflow: hidden;text-align: left;background-color: #f0f8ff;}#sk-container-id-1 div.sk-toggleable__content pre {margin: 0.2em;color: black;border-radius: 0.25em;background-color: #f0f8ff;}#sk-container-id-1 input.sk-toggleable__control:checked~div.sk-toggleable__content {max-height: 200px;max-width: 100%;overflow: auto;}#sk-container-id-1 input.sk-toggleable__control:checked~label.sk-toggleable__label-arrow:before {content: \"▾\";}#sk-container-id-1 div.sk-estimator input.sk-toggleable__control:checked~label.sk-toggleable__label {background-color: #d4ebff;}#sk-container-id-1 div.sk-label input.sk-toggleable__control:checked~label.sk-toggleable__label {background-color: #d4ebff;}#sk-container-id-1 input.sk-hidden--visually {border: 0;clip: rect(1px 1px 1px 1px);clip: rect(1px, 1px, 1px, 1px);height: 1px;margin: -1px;overflow: hidden;padding: 0;position: absolute;width: 1px;}#sk-container-id-1 div.sk-estimator {font-family: monospace;background-color: #f0f8ff;border: 1px dotted black;border-radius: 0.25em;box-sizing: border-box;margin-bottom: 0.5em;}#sk-container-id-1 div.sk-estimator:hover {background-color: #d4ebff;}#sk-container-id-1 div.sk-parallel-item::after {content: \"\";width: 100%;border-bottom: 1px solid gray;flex-grow: 1;}#sk-container-id-1 div.sk-label:hover label.sk-toggleable__label {background-color: #d4ebff;}#sk-container-id-1 div.sk-serial::before {content: \"\";position: absolute;border-left: 1px solid gray;box-sizing: border-box;top: 0;bottom: 0;left: 50%;z-index: 0;}#sk-container-id-1 div.sk-serial {display: flex;flex-direction: column;align-items: center;background-color: white;padding-right: 0.2em;padding-left: 0.2em;position: relative;}#sk-container-id-1 div.sk-item {position: relative;z-index: 1;}#sk-container-id-1 div.sk-parallel {display: flex;align-items: stretch;justify-content: center;background-color: white;position: relative;}#sk-container-id-1 div.sk-item::before, #sk-container-id-1 div.sk-parallel-item::before {content: \"\";position: absolute;border-left: 1px solid gray;box-sizing: border-box;top: 0;bottom: 0;left: 50%;z-index: -1;}#sk-container-id-1 div.sk-parallel-item {display: flex;flex-direction: column;z-index: 1;position: relative;background-color: white;}#sk-container-id-1 div.sk-parallel-item:first-child::after {align-self: flex-end;width: 50%;}#sk-container-id-1 div.sk-parallel-item:last-child::after {align-self: flex-start;width: 50%;}#sk-container-id-1 div.sk-parallel-item:only-child::after {width: 0;}#sk-container-id-1 div.sk-dashed-wrapped {border: 1px dashed gray;margin: 0 0.4em 0.5em 0.4em;box-sizing: border-box;padding-bottom: 0.4em;background-color: white;}#sk-container-id-1 div.sk-label label {font-family: monospace;font-weight: bold;display: inline-block;line-height: 1.2em;}#sk-container-id-1 div.sk-label-container {text-align: center;}#sk-container-id-1 div.sk-container {/* jupyter's `normalize.less` sets `[hidden] { display: none; }` but bootstrap.min.css set `[hidden] { display: none !important; }` so we also need the `!important` here to be able to override the default hidden behavior on the sphinx rendered scikit-learn.org. See: https://github.com/scikit-learn/scikit-learn/issues/21755 */display: inline-block !important;position: relative;}#sk-container-id-1 div.sk-text-repr-fallback {display: none;}</style><div id=\"sk-container-id-1\" class=\"sk-top-container\"><div class=\"sk-text-repr-fallback\"><pre>KNeighborsClassifier(n_neighbors=3)</pre><b>In a Jupyter environment, please rerun this cell to show the HTML representation or trust the notebook. <br />On GitHub, the HTML representation is unable to render, please try loading this page with nbviewer.org.</b></div><div class=\"sk-container\" hidden><div class=\"sk-item\"><div class=\"sk-estimator sk-toggleable\"><input class=\"sk-toggleable__control sk-hidden--visually\" id=\"sk-estimator-id-1\" type=\"checkbox\" checked><label for=\"sk-estimator-id-1\" class=\"sk-toggleable__label sk-toggleable__label-arrow\">KNeighborsClassifier</label><div class=\"sk-toggleable__content\"><pre>KNeighborsClassifier(n_neighbors=3)</pre></div></div></div></div></div>"
      ],
      "text/plain": [
       "KNeighborsClassifier(n_neighbors=3)"
      ]
     },
     "execution_count": 47,
     "metadata": {},
     "output_type": "execute_result"
    }
   ],
   "source": [
    "KNN.fit(x_tr,y_tr)"
   ]
  },
  {
   "cell_type": "code",
   "execution_count": 48,
   "id": "0e161e72-2a09-4297-927a-2476ce486275",
   "metadata": {},
   "outputs": [],
   "source": [
    "Tr = KNN.score(x_tr,y_tr)"
   ]
  },
  {
   "cell_type": "code",
   "execution_count": 49,
   "id": "8cb90fdd-4da7-4837-a0f4-183878ede7a0",
   "metadata": {},
   "outputs": [],
   "source": [
    "y_p = KNN.predict(x_te)"
   ]
  },
  {
   "cell_type": "code",
   "execution_count": 50,
   "id": "a5c25dcd-d6c3-4451-9cd7-cf8ec7487e09",
   "metadata": {},
   "outputs": [],
   "source": [
    "Te = accuracy_score(y_te,y_p)"
   ]
  },
  {
   "cell_type": "code",
   "execution_count": 51,
   "id": "4958b8ba-ed3b-489f-9fd8-1cfa63fa9bfa",
   "metadata": {},
   "outputs": [],
   "source": [
    "f1_knc = f1_score(y_te,y_p)"
   ]
  },
  {
   "cell_type": "code",
   "execution_count": 52,
   "id": "df39d2bc-5d4a-4d70-8851-615036deca65",
   "metadata": {},
   "outputs": [],
   "source": [
    "rec_knc = recall_score(y_te,y_p)"
   ]
  },
  {
   "cell_type": "code",
   "execution_count": 53,
   "id": "e924e6e7-8381-4cac-b0dd-5c31d6bbf0dd",
   "metadata": {},
   "outputs": [],
   "source": [
    "pre_knc = precision_score(y_te,y_p)"
   ]
  },
  {
   "cell_type": "markdown",
   "id": "af783b9e-b4f7-40f1-89b7-f6954af587ba",
   "metadata": {},
   "source": [
    "#### An Accuracy of 0.7808508683267481 for K Nearest Neighbours (KNN) \n",
    "#### Indicates That Appriximately 78.08% of Prediction Made By The Model Are Correct"
   ]
  },
  {
   "cell_type": "code",
   "execution_count": 54,
   "id": "4cb39dfe-d16e-4ccf-bebe-bbdeec4d2504",
   "metadata": {},
   "outputs": [],
   "source": [
    "conf = confusion_matrix(y_te,y_p)"
   ]
  },
  {
   "cell_type": "code",
   "execution_count": 55,
   "id": "7b8a6fd2-b5b4-41f0-b593-0f4d7373b8f1",
   "metadata": {},
   "outputs": [
    {
     "data": {
      "text/plain": [
       "array([[2325, 1307],\n",
       "       [1078, 6173]], dtype=int64)"
      ]
     },
     "execution_count": 55,
     "metadata": {},
     "output_type": "execute_result"
    }
   ],
   "source": [
    "conf"
   ]
  },
  {
   "cell_type": "markdown",
   "id": "0e126eb0-7ba5-484a-afda-5db69fd49aa6",
   "metadata": {},
   "source": [
    "#### In confusion matrix visualizes the model's performance by showing the count of true positives,\n",
    "#### true negatives, false positives, and false negativesive\n",
    "###\n"
   ]
  },
  {
   "cell_type": "code",
   "execution_count": 56,
   "id": "a42ec8f2-369a-4c52-a74e-315161382d32",
   "metadata": {},
   "outputs": [
    {
     "name": "stdout",
     "output_type": "stream",
     "text": [
      "              precision    recall  f1-score   support\n",
      "\n",
      "           0       0.68      0.64      0.66      3632\n",
      "           1       0.83      0.85      0.84      7251\n",
      "\n",
      "    accuracy                           0.78     10883\n",
      "   macro avg       0.75      0.75      0.75     10883\n",
      "weighted avg       0.78      0.78      0.78     10883\n",
      "\n"
     ]
    }
   ],
   "source": [
    "print(classification_report(y_te, y_p))"
   ]
  },
  {
   "cell_type": "markdown",
   "id": "d331d68c-5f9f-4f20-8355-23b5694af870",
   "metadata": {},
   "source": [
    "#### Applying Support Vector Machine"
   ]
  },
  {
   "cell_type": "code",
   "execution_count": 57,
   "id": "24650978-7e3c-4f88-ae8b-6ffaffce7d29",
   "metadata": {},
   "outputs": [],
   "source": [
    "svc = SVC(kernel=\"linear\")"
   ]
  },
  {
   "cell_type": "code",
   "execution_count": 58,
   "id": "fd4c0737-4454-44d9-a70a-2c0b6fc10ba9",
   "metadata": {},
   "outputs": [
    {
     "data": {
      "text/html": [
       "<style>#sk-container-id-2 {color: black;}#sk-container-id-2 pre{padding: 0;}#sk-container-id-2 div.sk-toggleable {background-color: white;}#sk-container-id-2 label.sk-toggleable__label {cursor: pointer;display: block;width: 100%;margin-bottom: 0;padding: 0.3em;box-sizing: border-box;text-align: center;}#sk-container-id-2 label.sk-toggleable__label-arrow:before {content: \"▸\";float: left;margin-right: 0.25em;color: #696969;}#sk-container-id-2 label.sk-toggleable__label-arrow:hover:before {color: black;}#sk-container-id-2 div.sk-estimator:hover label.sk-toggleable__label-arrow:before {color: black;}#sk-container-id-2 div.sk-toggleable__content {max-height: 0;max-width: 0;overflow: hidden;text-align: left;background-color: #f0f8ff;}#sk-container-id-2 div.sk-toggleable__content pre {margin: 0.2em;color: black;border-radius: 0.25em;background-color: #f0f8ff;}#sk-container-id-2 input.sk-toggleable__control:checked~div.sk-toggleable__content {max-height: 200px;max-width: 100%;overflow: auto;}#sk-container-id-2 input.sk-toggleable__control:checked~label.sk-toggleable__label-arrow:before {content: \"▾\";}#sk-container-id-2 div.sk-estimator input.sk-toggleable__control:checked~label.sk-toggleable__label {background-color: #d4ebff;}#sk-container-id-2 div.sk-label input.sk-toggleable__control:checked~label.sk-toggleable__label {background-color: #d4ebff;}#sk-container-id-2 input.sk-hidden--visually {border: 0;clip: rect(1px 1px 1px 1px);clip: rect(1px, 1px, 1px, 1px);height: 1px;margin: -1px;overflow: hidden;padding: 0;position: absolute;width: 1px;}#sk-container-id-2 div.sk-estimator {font-family: monospace;background-color: #f0f8ff;border: 1px dotted black;border-radius: 0.25em;box-sizing: border-box;margin-bottom: 0.5em;}#sk-container-id-2 div.sk-estimator:hover {background-color: #d4ebff;}#sk-container-id-2 div.sk-parallel-item::after {content: \"\";width: 100%;border-bottom: 1px solid gray;flex-grow: 1;}#sk-container-id-2 div.sk-label:hover label.sk-toggleable__label {background-color: #d4ebff;}#sk-container-id-2 div.sk-serial::before {content: \"\";position: absolute;border-left: 1px solid gray;box-sizing: border-box;top: 0;bottom: 0;left: 50%;z-index: 0;}#sk-container-id-2 div.sk-serial {display: flex;flex-direction: column;align-items: center;background-color: white;padding-right: 0.2em;padding-left: 0.2em;position: relative;}#sk-container-id-2 div.sk-item {position: relative;z-index: 1;}#sk-container-id-2 div.sk-parallel {display: flex;align-items: stretch;justify-content: center;background-color: white;position: relative;}#sk-container-id-2 div.sk-item::before, #sk-container-id-2 div.sk-parallel-item::before {content: \"\";position: absolute;border-left: 1px solid gray;box-sizing: border-box;top: 0;bottom: 0;left: 50%;z-index: -1;}#sk-container-id-2 div.sk-parallel-item {display: flex;flex-direction: column;z-index: 1;position: relative;background-color: white;}#sk-container-id-2 div.sk-parallel-item:first-child::after {align-self: flex-end;width: 50%;}#sk-container-id-2 div.sk-parallel-item:last-child::after {align-self: flex-start;width: 50%;}#sk-container-id-2 div.sk-parallel-item:only-child::after {width: 0;}#sk-container-id-2 div.sk-dashed-wrapped {border: 1px dashed gray;margin: 0 0.4em 0.5em 0.4em;box-sizing: border-box;padding-bottom: 0.4em;background-color: white;}#sk-container-id-2 div.sk-label label {font-family: monospace;font-weight: bold;display: inline-block;line-height: 1.2em;}#sk-container-id-2 div.sk-label-container {text-align: center;}#sk-container-id-2 div.sk-container {/* jupyter's `normalize.less` sets `[hidden] { display: none; }` but bootstrap.min.css set `[hidden] { display: none !important; }` so we also need the `!important` here to be able to override the default hidden behavior on the sphinx rendered scikit-learn.org. See: https://github.com/scikit-learn/scikit-learn/issues/21755 */display: inline-block !important;position: relative;}#sk-container-id-2 div.sk-text-repr-fallback {display: none;}</style><div id=\"sk-container-id-2\" class=\"sk-top-container\"><div class=\"sk-text-repr-fallback\"><pre>SVC(kernel=&#x27;linear&#x27;)</pre><b>In a Jupyter environment, please rerun this cell to show the HTML representation or trust the notebook. <br />On GitHub, the HTML representation is unable to render, please try loading this page with nbviewer.org.</b></div><div class=\"sk-container\" hidden><div class=\"sk-item\"><div class=\"sk-estimator sk-toggleable\"><input class=\"sk-toggleable__control sk-hidden--visually\" id=\"sk-estimator-id-2\" type=\"checkbox\" checked><label for=\"sk-estimator-id-2\" class=\"sk-toggleable__label sk-toggleable__label-arrow\">SVC</label><div class=\"sk-toggleable__content\"><pre>SVC(kernel=&#x27;linear&#x27;)</pre></div></div></div></div></div>"
      ],
      "text/plain": [
       "SVC(kernel='linear')"
      ]
     },
     "execution_count": 58,
     "metadata": {},
     "output_type": "execute_result"
    }
   ],
   "source": [
    "svc.fit(x_tr,y_tr)"
   ]
  },
  {
   "cell_type": "code",
   "execution_count": 59,
   "id": "7a5b05c8-f331-4347-847c-6b7b2cdcea38",
   "metadata": {},
   "outputs": [],
   "source": [
    "y_pre = svc.predict(x_te)"
   ]
  },
  {
   "cell_type": "code",
   "execution_count": 60,
   "id": "c6de7b34-563d-4b19-b5b0-e0377af90c0c",
   "metadata": {},
   "outputs": [],
   "source": [
    "Test = accuracy_score(y_te,y_pre)"
   ]
  },
  {
   "cell_type": "code",
   "execution_count": 61,
   "id": "f72f9e6f-e319-4e2f-9714-3b0c6ce89f97",
   "metadata": {},
   "outputs": [],
   "source": [
    "Train = svc.score(x_tr,y_tr)"
   ]
  },
  {
   "cell_type": "code",
   "execution_count": 62,
   "id": "b7997b53-8493-4254-94a1-c8960c964274",
   "metadata": {},
   "outputs": [
    {
     "name": "stdout",
     "output_type": "stream",
     "text": [
      "Traing Score if SVC  = 0.7498030875866415\n",
      "Testing Score of SVC = 0.7390425434163375\n"
     ]
    }
   ],
   "source": [
    "print(f\"Traing Score if SVC  = {Train}\")\n",
    "print(f\"Testing Score of SVC = {Test}\")"
   ]
  },
  {
   "cell_type": "markdown",
   "id": "12603264-55b5-4f0e-8ca6-6251f8dbee47",
   "metadata": {},
   "source": [
    "### An Acccuracy of 73.90% indicated responisible Performance for your SVC Model\n",
    "### on data Indicating that it correctily predicts the outcome(Booking Status) \n",
    "### for abour 73.90% of the sample in the dataset. "
   ]
  },
  {
   "cell_type": "code",
   "execution_count": 63,
   "id": "952976c6-8680-4b07-8efb-c78dd55577ed",
   "metadata": {},
   "outputs": [
    {
     "name": "stdout",
     "output_type": "stream",
     "text": [
      "              precision    recall  f1-score   support\n",
      "\n",
      "           0       0.67      0.42      0.52      3632\n",
      "           1       0.76      0.90      0.82      7251\n",
      "\n",
      "    accuracy                           0.74     10883\n",
      "   macro avg       0.72      0.66      0.67     10883\n",
      "weighted avg       0.73      0.74      0.72     10883\n",
      "\n"
     ]
    }
   ],
   "source": [
    "print(classification_report(y_te,y_pre))"
   ]
  },
  {
   "cell_type": "code",
   "execution_count": 64,
   "id": "5d3b35ef-b5ff-42eb-b58c-b9eb2a17ba72",
   "metadata": {},
   "outputs": [],
   "source": [
    "f1_svc = f1_score(y_te,y_pre)"
   ]
  },
  {
   "cell_type": "code",
   "execution_count": 65,
   "id": "2bbb59c0-c011-45c6-a445-60bdac69c07f",
   "metadata": {},
   "outputs": [],
   "source": [
    "rec_svc = recall_score(y_te,y_pre)"
   ]
  },
  {
   "cell_type": "code",
   "execution_count": 66,
   "id": "32e54ae0-f46a-4767-a1f2-f57fd2d3be92",
   "metadata": {},
   "outputs": [],
   "source": [
    "pre_svc = precision_score(y_te,y_pre)"
   ]
  },
  {
   "cell_type": "code",
   "execution_count": 67,
   "id": "b20ee685-765f-4148-acd5-efd4d6f46de0",
   "metadata": {},
   "outputs": [],
   "source": [
    "base_est = DecisionTreeClassifier()"
   ]
  },
  {
   "cell_type": "markdown",
   "id": "981ef050-816d-493a-ad30-46b7a76555b9",
   "metadata": {},
   "source": [
    "### Applying Stacking Technique"
   ]
  },
  {
   "cell_type": "code",
   "execution_count": 68,
   "id": "da2127d6-736c-4b44-87d4-175739560ea8",
   "metadata": {},
   "outputs": [],
   "source": [
    "base_estimators = [(\"svc\",SVC(kernel=\"linear\")),\n",
    "                  (\"dt\",DecisionTreeClassifier(criterion=\"entropy\",max_depth=5)),\n",
    "                  (\"lireg\",LinearRegression())]"
   ]
  },
  {
   "cell_type": "code",
   "execution_count": 69,
   "id": "c7ab306a-603d-4c4e-adb0-800794a65614",
   "metadata": {},
   "outputs": [],
   "source": [
    "model = RandomForestClassifier(n_estimators=100,n_jobs=-1,criterion=\"entropy\")"
   ]
  },
  {
   "cell_type": "code",
   "execution_count": 70,
   "id": "6bcb14b6-fbec-4738-bceb-80b433e7e14a",
   "metadata": {},
   "outputs": [],
   "source": [
    "sc = StackingClassifier(estimators=base_estimators,final_estimator=model,cv=5,n_jobs=-1,verbose=1)"
   ]
  },
  {
   "cell_type": "code",
   "execution_count": 71,
   "id": "b50ba92e-0e13-4a82-80ca-fe87e75d6659",
   "metadata": {},
   "outputs": [
    {
     "data": {
      "text/html": [
       "<style>#sk-container-id-3 {color: black;}#sk-container-id-3 pre{padding: 0;}#sk-container-id-3 div.sk-toggleable {background-color: white;}#sk-container-id-3 label.sk-toggleable__label {cursor: pointer;display: block;width: 100%;margin-bottom: 0;padding: 0.3em;box-sizing: border-box;text-align: center;}#sk-container-id-3 label.sk-toggleable__label-arrow:before {content: \"▸\";float: left;margin-right: 0.25em;color: #696969;}#sk-container-id-3 label.sk-toggleable__label-arrow:hover:before {color: black;}#sk-container-id-3 div.sk-estimator:hover label.sk-toggleable__label-arrow:before {color: black;}#sk-container-id-3 div.sk-toggleable__content {max-height: 0;max-width: 0;overflow: hidden;text-align: left;background-color: #f0f8ff;}#sk-container-id-3 div.sk-toggleable__content pre {margin: 0.2em;color: black;border-radius: 0.25em;background-color: #f0f8ff;}#sk-container-id-3 input.sk-toggleable__control:checked~div.sk-toggleable__content {max-height: 200px;max-width: 100%;overflow: auto;}#sk-container-id-3 input.sk-toggleable__control:checked~label.sk-toggleable__label-arrow:before {content: \"▾\";}#sk-container-id-3 div.sk-estimator input.sk-toggleable__control:checked~label.sk-toggleable__label {background-color: #d4ebff;}#sk-container-id-3 div.sk-label input.sk-toggleable__control:checked~label.sk-toggleable__label {background-color: #d4ebff;}#sk-container-id-3 input.sk-hidden--visually {border: 0;clip: rect(1px 1px 1px 1px);clip: rect(1px, 1px, 1px, 1px);height: 1px;margin: -1px;overflow: hidden;padding: 0;position: absolute;width: 1px;}#sk-container-id-3 div.sk-estimator {font-family: monospace;background-color: #f0f8ff;border: 1px dotted black;border-radius: 0.25em;box-sizing: border-box;margin-bottom: 0.5em;}#sk-container-id-3 div.sk-estimator:hover {background-color: #d4ebff;}#sk-container-id-3 div.sk-parallel-item::after {content: \"\";width: 100%;border-bottom: 1px solid gray;flex-grow: 1;}#sk-container-id-3 div.sk-label:hover label.sk-toggleable__label {background-color: #d4ebff;}#sk-container-id-3 div.sk-serial::before {content: \"\";position: absolute;border-left: 1px solid gray;box-sizing: border-box;top: 0;bottom: 0;left: 50%;z-index: 0;}#sk-container-id-3 div.sk-serial {display: flex;flex-direction: column;align-items: center;background-color: white;padding-right: 0.2em;padding-left: 0.2em;position: relative;}#sk-container-id-3 div.sk-item {position: relative;z-index: 1;}#sk-container-id-3 div.sk-parallel {display: flex;align-items: stretch;justify-content: center;background-color: white;position: relative;}#sk-container-id-3 div.sk-item::before, #sk-container-id-3 div.sk-parallel-item::before {content: \"\";position: absolute;border-left: 1px solid gray;box-sizing: border-box;top: 0;bottom: 0;left: 50%;z-index: -1;}#sk-container-id-3 div.sk-parallel-item {display: flex;flex-direction: column;z-index: 1;position: relative;background-color: white;}#sk-container-id-3 div.sk-parallel-item:first-child::after {align-self: flex-end;width: 50%;}#sk-container-id-3 div.sk-parallel-item:last-child::after {align-self: flex-start;width: 50%;}#sk-container-id-3 div.sk-parallel-item:only-child::after {width: 0;}#sk-container-id-3 div.sk-dashed-wrapped {border: 1px dashed gray;margin: 0 0.4em 0.5em 0.4em;box-sizing: border-box;padding-bottom: 0.4em;background-color: white;}#sk-container-id-3 div.sk-label label {font-family: monospace;font-weight: bold;display: inline-block;line-height: 1.2em;}#sk-container-id-3 div.sk-label-container {text-align: center;}#sk-container-id-3 div.sk-container {/* jupyter's `normalize.less` sets `[hidden] { display: none; }` but bootstrap.min.css set `[hidden] { display: none !important; }` so we also need the `!important` here to be able to override the default hidden behavior on the sphinx rendered scikit-learn.org. See: https://github.com/scikit-learn/scikit-learn/issues/21755 */display: inline-block !important;position: relative;}#sk-container-id-3 div.sk-text-repr-fallback {display: none;}</style><div id=\"sk-container-id-3\" class=\"sk-top-container\"><div class=\"sk-text-repr-fallback\"><pre>StackingClassifier(cv=5,\n",
       "                   estimators=[(&#x27;svc&#x27;, SVC(kernel=&#x27;linear&#x27;)),\n",
       "                               (&#x27;dt&#x27;,\n",
       "                                DecisionTreeClassifier(criterion=&#x27;entropy&#x27;,\n",
       "                                                       max_depth=5)),\n",
       "                               (&#x27;lireg&#x27;, LinearRegression())],\n",
       "                   final_estimator=RandomForestClassifier(criterion=&#x27;entropy&#x27;,\n",
       "                                                          n_jobs=-1),\n",
       "                   n_jobs=-1, verbose=1)</pre><b>In a Jupyter environment, please rerun this cell to show the HTML representation or trust the notebook. <br />On GitHub, the HTML representation is unable to render, please try loading this page with nbviewer.org.</b></div><div class=\"sk-container\" hidden><div class=\"sk-item sk-dashed-wrapped\"><div class=\"sk-label-container\"><div class=\"sk-label sk-toggleable\"><input class=\"sk-toggleable__control sk-hidden--visually\" id=\"sk-estimator-id-3\" type=\"checkbox\" ><label for=\"sk-estimator-id-3\" class=\"sk-toggleable__label sk-toggleable__label-arrow\">StackingClassifier</label><div class=\"sk-toggleable__content\"><pre>StackingClassifier(cv=5,\n",
       "                   estimators=[(&#x27;svc&#x27;, SVC(kernel=&#x27;linear&#x27;)),\n",
       "                               (&#x27;dt&#x27;,\n",
       "                                DecisionTreeClassifier(criterion=&#x27;entropy&#x27;,\n",
       "                                                       max_depth=5)),\n",
       "                               (&#x27;lireg&#x27;, LinearRegression())],\n",
       "                   final_estimator=RandomForestClassifier(criterion=&#x27;entropy&#x27;,\n",
       "                                                          n_jobs=-1),\n",
       "                   n_jobs=-1, verbose=1)</pre></div></div></div><div class=\"sk-serial\"><div class=\"sk-item\"><div class=\"sk-parallel\"><div class=\"sk-parallel-item\"><div class=\"sk-item\"><div class=\"sk-label-container\"><div class=\"sk-label sk-toggleable\"><label>svc</label></div></div><div class=\"sk-serial\"><div class=\"sk-item\"><div class=\"sk-estimator sk-toggleable\"><input class=\"sk-toggleable__control sk-hidden--visually\" id=\"sk-estimator-id-4\" type=\"checkbox\" ><label for=\"sk-estimator-id-4\" class=\"sk-toggleable__label sk-toggleable__label-arrow\">SVC</label><div class=\"sk-toggleable__content\"><pre>SVC(kernel=&#x27;linear&#x27;)</pre></div></div></div></div></div></div><div class=\"sk-parallel-item\"><div class=\"sk-item\"><div class=\"sk-label-container\"><div class=\"sk-label sk-toggleable\"><label>dt</label></div></div><div class=\"sk-serial\"><div class=\"sk-item\"><div class=\"sk-estimator sk-toggleable\"><input class=\"sk-toggleable__control sk-hidden--visually\" id=\"sk-estimator-id-5\" type=\"checkbox\" ><label for=\"sk-estimator-id-5\" class=\"sk-toggleable__label sk-toggleable__label-arrow\">DecisionTreeClassifier</label><div class=\"sk-toggleable__content\"><pre>DecisionTreeClassifier(criterion=&#x27;entropy&#x27;, max_depth=5)</pre></div></div></div></div></div></div><div class=\"sk-parallel-item\"><div class=\"sk-item\"><div class=\"sk-label-container\"><div class=\"sk-label sk-toggleable\"><label>lireg</label></div></div><div class=\"sk-serial\"><div class=\"sk-item\"><div class=\"sk-estimator sk-toggleable\"><input class=\"sk-toggleable__control sk-hidden--visually\" id=\"sk-estimator-id-6\" type=\"checkbox\" ><label for=\"sk-estimator-id-6\" class=\"sk-toggleable__label sk-toggleable__label-arrow\">LinearRegression</label><div class=\"sk-toggleable__content\"><pre>LinearRegression()</pre></div></div></div></div></div></div></div></div><div class=\"sk-item\"><div class=\"sk-parallel\"><div class=\"sk-parallel-item\"><div class=\"sk-item\"><div class=\"sk-label-container\"><div class=\"sk-label sk-toggleable\"><label>final_estimator</label></div></div><div class=\"sk-serial\"><div class=\"sk-item\"><div class=\"sk-estimator sk-toggleable\"><input class=\"sk-toggleable__control sk-hidden--visually\" id=\"sk-estimator-id-7\" type=\"checkbox\" ><label for=\"sk-estimator-id-7\" class=\"sk-toggleable__label sk-toggleable__label-arrow\">RandomForestClassifier</label><div class=\"sk-toggleable__content\"><pre>RandomForestClassifier(criterion=&#x27;entropy&#x27;, n_jobs=-1)</pre></div></div></div></div></div></div></div></div></div></div></div></div>"
      ],
      "text/plain": [
       "StackingClassifier(cv=5,\n",
       "                   estimators=[('svc', SVC(kernel='linear')),\n",
       "                               ('dt',\n",
       "                                DecisionTreeClassifier(criterion='entropy',\n",
       "                                                       max_depth=5)),\n",
       "                               ('lireg', LinearRegression())],\n",
       "                   final_estimator=RandomForestClassifier(criterion='entropy',\n",
       "                                                          n_jobs=-1),\n",
       "                   n_jobs=-1, verbose=1)"
      ]
     },
     "execution_count": 71,
     "metadata": {},
     "output_type": "execute_result"
    }
   ],
   "source": [
    "sc.fit(x_tr,y_tr)"
   ]
  },
  {
   "cell_type": "code",
   "execution_count": 72,
   "id": "eded2135-4b5c-4a43-ac1a-82cc29959863",
   "metadata": {},
   "outputs": [],
   "source": [
    "Train_score = sc.score(x_tr,y_tr)"
   ]
  },
  {
   "cell_type": "code",
   "execution_count": 73,
   "id": "07ef60b7-4933-4837-8ea9-093ce5210dab",
   "metadata": {},
   "outputs": [],
   "source": [
    "y_pred2 = sc.predict(x_te)"
   ]
  },
  {
   "cell_type": "code",
   "execution_count": 74,
   "id": "d3c74db1-36da-4f8b-943a-7ddbba0f74b0",
   "metadata": {},
   "outputs": [],
   "source": [
    "Accuracy_score = accuracy_score(y_te,y_pred2)"
   ]
  },
  {
   "cell_type": "code",
   "execution_count": 75,
   "id": "0728f47f-5148-4a05-b244-edaf1f8eff03",
   "metadata": {},
   "outputs": [],
   "source": [
    "f1_sta = f1_score(y_te,y_pred2)\n",
    "rec_sta = recall_score(y_te,y_pred2)\n",
    "pre_sta = precision_score(y_te,y_pred2)"
   ]
  },
  {
   "cell_type": "code",
   "execution_count": 76,
   "id": "f6e0f22d-6cea-4250-953b-033480bcb110",
   "metadata": {},
   "outputs": [
    {
     "name": "stdout",
     "output_type": "stream",
     "text": [
      "              precision    recall  f1-score   support\n",
      "\n",
      "           0       0.69      0.56      0.62      3632\n",
      "           1       0.80      0.88      0.83      7251\n",
      "\n",
      "    accuracy                           0.77     10883\n",
      "   macro avg       0.74      0.72      0.73     10883\n",
      "weighted avg       0.76      0.77      0.76     10883\n",
      "\n"
     ]
    }
   ],
   "source": [
    "print(classification_report(y_te,y_pred2))"
   ]
  },
  {
   "cell_type": "markdown",
   "id": "f691ccef-e733-41c4-9d76-a37434fcfb6e",
   "metadata": {},
   "source": [
    "#### Applied stacking Technique combines that Support Vector Classifier, Decision Tree Classifier, and Linear Regression as base estimators  Their predictions are aggregated and fed into a Random Forest Classifier for final estimation which Gives the Accuracy of Model Prediction is Approximately. 77.08 %"
   ]
  },
  {
   "cell_type": "code",
   "execution_count": 77,
   "id": "382f06c6-8435-468e-b5fa-218e6edc31cb",
   "metadata": {},
   "outputs": [
    {
     "name": "stdout",
     "output_type": "stream",
     "text": [
      "Training Score of KNN = 0.8890595463137996\n",
      "Testing Score of KNN = 0.7808508683267481\n",
      "Training Score of SVM = 0.7498030875866415\n",
      "Testing Score of SVM = 0.7390425434163375\n",
      "Training Score of Stacking Technique = 0.794462822936358\n",
      "Testing Score of Stacking Technique = 0.769365064779932\n"
     ]
    }
   ],
   "source": [
    "print(f\"Training Score of KNN = {Tr}\")\n",
    "print(f\"Testing Score of KNN = {Te}\")\n",
    "print(f\"Training Score of SVM = {Train}\")\n",
    "print(f\"Testing Score of SVM = {Test}\")\n",
    "print(f\"Training Score of Stacking Technique = {Train_score}\")\n",
    "print(f\"Testing Score of Stacking Technique = {Accuracy_score}\")"
   ]
  },
  {
   "cell_type": "code",
   "execution_count": 78,
   "id": "7ab2e9b6-ce21-461c-9726-fb15af4fd493",
   "metadata": {},
   "outputs": [],
   "source": [
    "r1_data = [[\"KNeighbors Classifier\", Te, f1_knc,pre_knc,rec_knc]]\n",
    "r1_columns = [\"Model\",\"Accuracy Score\",\"F1 Score\",\"Precision\",\"Recall\"]\n",
    "r1 = pd.DataFrame (r1_data, columns=r1_columns)"
   ]
  },
  {
   "cell_type": "code",
   "execution_count": 79,
   "id": "05df1f7b",
   "metadata": {},
   "outputs": [],
   "source": [
    "r2_data = [[\"Support Vector Classifier\", Test, f1_svc,pre_svc,rec_svc]]\n",
    "r2_columns = [\"Model\",\"Accuracy Score\",\"F1 Score\",\"Precision\",\"Recall\"]\n",
    "r2 = pd.DataFrame (r2_data, columns=r2_columns)"
   ]
  },
  {
   "cell_type": "code",
   "execution_count": 80,
   "id": "4909eec3",
   "metadata": {},
   "outputs": [],
   "source": [
    "r3_data = [[\"Stacking Technique\", Accuracy_score, f1_sta,pre_sta,rec_sta]]\n",
    "r3_columns = [\"Model\",\"Accuracy Score\",\"F1 Score\",\"Precision\",\"Recall\"]\n",
    "r3 = pd.DataFrame (r3_data, columns=r3_columns)"
   ]
  },
  {
   "cell_type": "code",
   "execution_count": 81,
   "id": "502a1beb-0040-450e-bb87-a8b1e822b599",
   "metadata": {},
   "outputs": [
    {
     "data": {
      "text/html": [
       "<div>\n",
       "<style scoped>\n",
       "    .dataframe tbody tr th:only-of-type {\n",
       "        vertical-align: middle;\n",
       "    }\n",
       "\n",
       "    .dataframe tbody tr th {\n",
       "        vertical-align: top;\n",
       "    }\n",
       "\n",
       "    .dataframe thead th {\n",
       "        text-align: right;\n",
       "    }\n",
       "</style>\n",
       "<table border=\"1\" class=\"dataframe\">\n",
       "  <thead>\n",
       "    <tr style=\"text-align: right;\">\n",
       "      <th></th>\n",
       "      <th>Model</th>\n",
       "      <th>Accuracy Score</th>\n",
       "      <th>F1 Score</th>\n",
       "      <th>Precision</th>\n",
       "      <th>Recall</th>\n",
       "    </tr>\n",
       "  </thead>\n",
       "  <tbody>\n",
       "    <tr>\n",
       "      <th>0</th>\n",
       "      <td>KNeighbors Classifier</td>\n",
       "      <td>0.780851</td>\n",
       "      <td>0.838097</td>\n",
       "      <td>0.825267</td>\n",
       "      <td>0.851331</td>\n",
       "    </tr>\n",
       "    <tr>\n",
       "      <th>1</th>\n",
       "      <td>Stacking Technique</td>\n",
       "      <td>0.769365</td>\n",
       "      <td>0.834955</td>\n",
       "      <td>0.797914</td>\n",
       "      <td>0.875603</td>\n",
       "    </tr>\n",
       "    <tr>\n",
       "      <th>2</th>\n",
       "      <td>Support Vector Classifier</td>\n",
       "      <td>0.739043</td>\n",
       "      <td>0.820933</td>\n",
       "      <td>0.756185</td>\n",
       "      <td>0.897807</td>\n",
       "    </tr>\n",
       "  </tbody>\n",
       "</table>\n",
       "</div>"
      ],
      "text/plain": [
       "                       Model  Accuracy Score  F1 Score  Precision    Recall\n",
       "0      KNeighbors Classifier        0.780851  0.838097   0.825267  0.851331\n",
       "1         Stacking Technique        0.769365  0.834955   0.797914  0.875603\n",
       "2  Support Vector Classifier        0.739043  0.820933   0.756185  0.897807"
      ]
     },
     "execution_count": 81,
     "metadata": {},
     "output_type": "execute_result"
    }
   ],
   "source": [
    "result = pd.concat([r1,r2,r3])\n",
    "result_sorted = result.sort_values(by=\"Accuracy Score\",ascending=False)\n",
    "result_sorted.reset_index(drop = True ,inplace=True)\n",
    "result_sorted"
   ]
  },
  {
   "cell_type": "markdown",
   "id": "1fa5d510-d163-43c2-a22a-c1ffb278a656",
   "metadata": {},
   "source": [
    "####\n",
    "# RESULT\n",
    "### Among the models utilized KNN,SVC, and stacking where K-Nearest Neighbours (KNN) exhibits superior performance with an accuracy of \n",
    "### 78.08%  In comparison, stacking achieves an accuracy of 77.90 %, while Support Vector Classsifier (SVC) lags behind with 73.90 %. \n",
    "### This suggests that the KNN model is most effective for the dataset in terms of predictive accuracy.\n"
   ]
  },
  {
   "cell_type": "code",
   "execution_count": null,
   "id": "0cf0b436-06e0-4537-94f1-b45eace65f78",
   "metadata": {},
   "outputs": [],
   "source": []
  }
 ],
 "metadata": {
  "kernelspec": {
   "display_name": "Python 3 (ipykernel)",
   "language": "python",
   "name": "python3"
  },
  "language_info": {
   "codemirror_mode": {
    "name": "ipython",
    "version": 3
   },
   "file_extension": ".py",
   "mimetype": "text/x-python",
   "name": "python",
   "nbconvert_exporter": "python",
   "pygments_lexer": "ipython3",
   "version": "3.12.0"
  }
 },
 "nbformat": 4,
 "nbformat_minor": 5
}
